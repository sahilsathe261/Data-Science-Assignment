{
  "nbformat": 4,
  "nbformat_minor": 0,
  "metadata": {
    "colab": {
      "provenance": []
    },
    "kernelspec": {
      "name": "python3",
      "display_name": "Python 3"
    },
    "language_info": {
      "name": "python"
    }
  },
  "cells": [
    {
      "cell_type": "markdown",
      "source": [
        "**PART-1**\n",
        "**CHI_SQUARE_TEST**"
      ],
      "metadata": {
        "id": "bwV5AxZYxPVt"
      }
    },
    {
      "cell_type": "markdown",
      "source": [
        "**STATE THE HYPOTHESIS**\n",
        "\n",
        "\n",
        "1.   Null Hypothesis (H0): There is no significant association between the type of smart home device and customer satisfaction levels.\n",
        "2.   Alternative Hypothesis (H1): There is a significant association between the type of smart home device and customer satisfaction levels.\n",
        "\n"
      ],
      "metadata": {
        "id": "ZKQpqT_9qhAk"
      }
    },
    {
      "cell_type": "markdown",
      "source": [
        "**Compute the Chi-Square Statistic:**"
      ],
      "metadata": {
        "id": "gfoxL4DtrMpD"
      }
    },
    {
      "cell_type": "code",
      "source": [
        "import numpy as np\n",
        "import scipy.stats as stats"
      ],
      "metadata": {
        "id": "ijWyznwjq9GJ"
      },
      "execution_count": 1,
      "outputs": []
    },
    {
      "cell_type": "code",
      "source": [
        "data = np.array([[50, 70],[80, 100],[60, 90],[30, 50],[20, 50]])"
      ],
      "metadata": {
        "id": "pIFXpBhqrw9u"
      },
      "execution_count": 2,
      "outputs": []
    },
    {
      "cell_type": "code",
      "source": [
        "chi2, p, dof, expected = stats.chi2_contingency(data)"
      ],
      "metadata": {
        "id": "a4ul938lsPMb"
      },
      "execution_count": 3,
      "outputs": []
    },
    {
      "cell_type": "code",
      "source": [
        "chi_sq_statistic=chi2     #chi_square_statistic\n",
        "chi_sq_statistic"
      ],
      "metadata": {
        "colab": {
          "base_uri": "https://localhost:8080/"
        },
        "id": "DSLMhEHztCED",
        "outputId": "c015d828-0154-4e85-ddc8-d7e03a7683e7"
      },
      "execution_count": 13,
      "outputs": [
        {
          "output_type": "execute_result",
          "data": {
            "text/plain": [
              "5.638227513227513"
            ]
          },
          "metadata": {},
          "execution_count": 13
        }
      ]
    },
    {
      "cell_type": "code",
      "source": [
        "p         #P-value"
      ],
      "metadata": {
        "colab": {
          "base_uri": "https://localhost:8080/"
        },
        "id": "hbE7iFUYtD0B",
        "outputId": "24036c4a-ee67-42d3-d1cb-f5af05324429"
      },
      "execution_count": 5,
      "outputs": [
        {
          "output_type": "execute_result",
          "data": {
            "text/plain": [
              "0.22784371130697179"
            ]
          },
          "metadata": {},
          "execution_count": 5
        }
      ]
    },
    {
      "cell_type": "code",
      "source": [
        "dof       #degree_of_freedom"
      ],
      "metadata": {
        "colab": {
          "base_uri": "https://localhost:8080/"
        },
        "id": "8DCAXVrFtEhR",
        "outputId": "786e98cf-932e-45e0-8904-02022a5f883a"
      },
      "execution_count": 6,
      "outputs": [
        {
          "output_type": "execute_result",
          "data": {
            "text/plain": [
              "4"
            ]
          },
          "metadata": {},
          "execution_count": 6
        }
      ]
    },
    {
      "cell_type": "code",
      "source": [
        "expected     #Expected_frequencies"
      ],
      "metadata": {
        "colab": {
          "base_uri": "https://localhost:8080/"
        },
        "id": "aX3CH0AKtFsS",
        "outputId": "f46fa252-ddcf-4bc5-c106-338a4879e5b2"
      },
      "execution_count": 7,
      "outputs": [
        {
          "output_type": "execute_result",
          "data": {
            "text/plain": [
              "array([[ 48.,  72.],\n",
              "       [ 72., 108.],\n",
              "       [ 60.,  90.],\n",
              "       [ 32.,  48.],\n",
              "       [ 28.,  42.]])"
            ]
          },
          "metadata": {},
          "execution_count": 7
        }
      ]
    },
    {
      "cell_type": "code",
      "source": [
        "critical_value=stats.chi2.ppf(0.95,4)\n",
        "critical_value    #critical_value"
      ],
      "metadata": {
        "colab": {
          "base_uri": "https://localhost:8080/"
        },
        "id": "KkoARUMVtH16",
        "outputId": "224628c6-92b0-4758-aae1-05210f1ce9f3"
      },
      "execution_count": 16,
      "outputs": [
        {
          "output_type": "execute_result",
          "data": {
            "text/plain": [
              "9.487729036781154"
            ]
          },
          "metadata": {},
          "execution_count": 16
        }
      ]
    },
    {
      "cell_type": "markdown",
      "source": [
        "**COMPARING STATISTICAL AND CRITICAL VALUE**"
      ],
      "metadata": {
        "id": "TsmtHr_Ivhsl"
      }
    },
    {
      "cell_type": "code",
      "source": [
        "print(\"Chi-Square Statistic:\", chi_sq_statistic)\n",
        "print(\"Critical Value:\", critical_value)"
      ],
      "metadata": {
        "colab": {
          "base_uri": "https://localhost:8080/"
        },
        "id": "HYjbj8CYvWRm",
        "outputId": "5d8f55b3-adfb-441d-e455-651a9ef449be"
      },
      "execution_count": 17,
      "outputs": [
        {
          "output_type": "stream",
          "name": "stdout",
          "text": [
            "Chi-Square Statistic: 5.638227513227513\n",
            "Critical Value: 9.487729036781154\n"
          ]
        }
      ]
    },
    {
      "cell_type": "markdown",
      "source": [
        "**DECISION**"
      ],
      "metadata": {
        "id": "gqBTUWAWv6NN"
      }
    },
    {
      "cell_type": "markdown",
      "source": [
        "Here Chi-Square statistic < Critical Value\n",
        "\n",
        "\n",
        "Hence we accept the Null Hypothesis and Reject the Alternate Hypothesis\n",
        "\n",
        "\n",
        "i.e.There is a no significant association between the type of smart home device and customer satisfaction levels.\n",
        "\n"
      ],
      "metadata": {
        "id": "I6Yae2i5wBcO"
      }
    },
    {
      "cell_type": "code",
      "source": [
        "#---------------------------------------------------------------------------------------------------------------------------------------"
      ],
      "metadata": {
        "id": "PEhD7xrNuEgH"
      },
      "execution_count": null,
      "outputs": []
    },
    {
      "cell_type": "markdown",
      "source": [
        "**PART-2**\n",
        "**Hypothesis Testing for Weekly Operating Costs**"
      ],
      "metadata": {
        "id": "Kgb-fXKKyxYb"
      }
    },
    {
      "cell_type": "markdown",
      "source": [
        "# STATE HYPOTHESIS\n",
        "\n",
        "1.   Null Hypothesis (H0): The weekly operating costs are as predicted by the model  W = 1000 + 5X\n",
        "\n",
        "2.   Alternative Hypothesis (H1): The weekly operating costs are higher than predicted by the model.\n",
        "\n",
        "\n",
        "\n"
      ],
      "metadata": {
        "id": "r4MMRhT3z55b"
      }
    },
    {
      "cell_type": "code",
      "source": [
        "import numpy as np\n",
        "import scipy.stats as stats"
      ],
      "metadata": {
        "id": "uq1H6Ppsy1k2"
      },
      "execution_count": 19,
      "outputs": []
    },
    {
      "cell_type": "code",
      "source": [
        "# Given data\n",
        "sample_mean = 3050\n",
        "theoretical_mean = 1000 + 5*600\n",
        "sigma = 5*25\n",
        "n = 25"
      ],
      "metadata": {
        "id": "EMetW2uQ1Fxr"
      },
      "execution_count": 21,
      "outputs": []
    },
    {
      "cell_type": "code",
      "source": [
        "#Calculating_test_statistic\n",
        "test_statistic = (sample_mean - theoretical_mean) / (sigma / np.sqrt(n))\n",
        "test_statistic"
      ],
      "metadata": {
        "colab": {
          "base_uri": "https://localhost:8080/"
        },
        "id": "ekPHpNEV1du4",
        "outputId": "27e6832f-d23a-49eb-9b6c-ae19ec4cba93"
      },
      "execution_count": 23,
      "outputs": [
        {
          "output_type": "execute_result",
          "data": {
            "text/plain": [
              "-38.0"
            ]
          },
          "metadata": {},
          "execution_count": 23
        }
      ]
    },
    {
      "cell_type": "code",
      "source": [
        "#Calculating_the_critical_Value\n",
        "alpha=0.05\n",
        "critical_value1 = stats.norm.ppf(1-alpha)\n",
        "critical_value1"
      ],
      "metadata": {
        "colab": {
          "base_uri": "https://localhost:8080/"
        },
        "id": "G8PSz1mH22Q9",
        "outputId": "5ddba429-de19-4726-932a-2668e853aa59"
      },
      "execution_count": 33,
      "outputs": [
        {
          "output_type": "execute_result",
          "data": {
            "text/plain": [
              "1.6448536269514722"
            ]
          },
          "metadata": {},
          "execution_count": 33
        }
      ]
    },
    {
      "cell_type": "code",
      "source": [
        "print(critical_value1)\n",
        "print(test_statistic)"
      ],
      "metadata": {
        "colab": {
          "base_uri": "https://localhost:8080/"
        },
        "id": "Fewwmi3T_hZN",
        "outputId": "56b96a7f-b06c-428b-ae17-8611e5f6c115"
      },
      "execution_count": 35,
      "outputs": [
        {
          "output_type": "stream",
          "name": "stdout",
          "text": [
            "1.6448536269514722\n",
            "-38.0\n"
          ]
        }
      ]
    },
    {
      "cell_type": "markdown",
      "source": [
        "**DECISION**\n",
        "\n",
        "Here test_statistic < Critical Value\n",
        "\n",
        "Hence we reject the Null Hypothesis and accept the Alternate Hypothesis\n",
        "\n",
        "i.e.whether there is strong evidence to support the restaurant owner's claim that the weekly operating costs are higher than the model suggests.\n",
        "\n"
      ],
      "metadata": {
        "id": "cKGBw6Ah4aI2"
      }
    },
    {
      "cell_type": "code",
      "source": [],
      "metadata": {
        "id": "OEoSqLxD3750"
      },
      "execution_count": null,
      "outputs": []
    }
  ]
}