{
  "nbformat": 4,
  "nbformat_minor": 0,
  "metadata": {
    "colab": {
      "provenance": []
    },
    "kernelspec": {
      "name": "python3",
      "display_name": "Python 3"
    },
    "language_info": {
      "name": "python"
    }
  },
  "cells": [
    {
      "cell_type": "markdown",
      "source": [
        "Write a Python program that checks whether a given number is prime or not. A prime number is a natural number greater than 1 that has no positive divisors other than 1 and itself."
      ],
      "metadata": {
        "id": "fAPJjHPj7Usm"
      }
    },
    {
      "cell_type": "code",
      "execution_count": null,
      "metadata": {
        "colab": {
          "base_uri": "https://localhost:8080/"
        },
        "id": "0oaQ-lVK7MS2",
        "outputId": "7c8aa624-b69a-41e4-9d75-2fb48dfae8ee"
      },
      "outputs": [
        {
          "output_type": "stream",
          "name": "stdout",
          "text": [
            "Enter a number7\n",
            "prime\n"
          ]
        }
      ],
      "source": [
        "num=int(input(\"Enter a number\"))\n",
        "for i in range(2,num):\n",
        "  if num%i==0:\n",
        "    print(\"not prime\")\n",
        "    break\n",
        "else:\n",
        "  print(\"prime\")\n"
      ]
    },
    {
      "cell_type": "markdown",
      "source": [
        "Develop a Python program that generates two random numbers and asks the user to enter the product of these numbers. The program should then check if the user's answer is correct and display an appropriate message.\n"
      ],
      "metadata": {
        "id": "CJ0OP2cD8qBC"
      }
    },
    {
      "cell_type": "code",
      "source": [
        "import random\n",
        "a=random.randint(1,10)\n",
        "b=random.randint(1,10)\n",
        "print(f\"Perform the multiplication of {a} and {b}\")\n",
        "c=int(input(\"Enter your answer---->\"))\n",
        "if c==a*b:\n",
        "  print(\"correct\")\n",
        "else:\n",
        "  print(\"incorrect\")"
      ],
      "metadata": {
        "colab": {
          "base_uri": "https://localhost:8080/"
        },
        "id": "e48bC8jQ8o7O",
        "outputId": "cac03010-f6f5-4351-a896-3ca607229ce8"
      },
      "execution_count": null,
      "outputs": [
        {
          "output_type": "stream",
          "name": "stdout",
          "text": [
            "Perform the multiplication of 7 and 6\n",
            "Enter your answer---->42\n",
            "correct\n"
          ]
        }
      ]
    },
    {
      "cell_type": "markdown",
      "source": [],
      "metadata": {
        "id": "msqzhEAl-MEX"
      }
    },
    {
      "cell_type": "code",
      "source": [
        "print(\"Square of all even number is \")\n",
        "for i in range(100,200,2):\n",
        "  print(\"\\n\",i*i)\n",
        "\n",
        "print(\"Square of all odd number is \")\n",
        "for i in range(101,200,2):\n",
        "  print(\"\\n\",i*i)"
      ],
      "metadata": {
        "colab": {
          "base_uri": "https://localhost:8080/"
        },
        "id": "DATQs2b1-LcM",
        "outputId": "516ba1ca-bc6d-4d43-a557-cbe5718519f3"
      },
      "execution_count": null,
      "outputs": [
        {
          "output_type": "stream",
          "name": "stdout",
          "text": [
            "Square of all even number is \n",
            "\n",
            " 10000\n",
            "\n",
            " 10404\n",
            "\n",
            " 10816\n",
            "\n",
            " 11236\n",
            "\n",
            " 11664\n",
            "\n",
            " 12100\n",
            "\n",
            " 12544\n",
            "\n",
            " 12996\n",
            "\n",
            " 13456\n",
            "\n",
            " 13924\n",
            "\n",
            " 14400\n",
            "\n",
            " 14884\n",
            "\n",
            " 15376\n",
            "\n",
            " 15876\n",
            "\n",
            " 16384\n",
            "\n",
            " 16900\n",
            "\n",
            " 17424\n",
            "\n",
            " 17956\n",
            "\n",
            " 18496\n",
            "\n",
            " 19044\n",
            "\n",
            " 19600\n",
            "\n",
            " 20164\n",
            "\n",
            " 20736\n",
            "\n",
            " 21316\n",
            "\n",
            " 21904\n",
            "\n",
            " 22500\n",
            "\n",
            " 23104\n",
            "\n",
            " 23716\n",
            "\n",
            " 24336\n",
            "\n",
            " 24964\n",
            "\n",
            " 25600\n",
            "\n",
            " 26244\n",
            "\n",
            " 26896\n",
            "\n",
            " 27556\n",
            "\n",
            " 28224\n",
            "\n",
            " 28900\n",
            "\n",
            " 29584\n",
            "\n",
            " 30276\n",
            "\n",
            " 30976\n",
            "\n",
            " 31684\n",
            "\n",
            " 32400\n",
            "\n",
            " 33124\n",
            "\n",
            " 33856\n",
            "\n",
            " 34596\n",
            "\n",
            " 35344\n",
            "\n",
            " 36100\n",
            "\n",
            " 36864\n",
            "\n",
            " 37636\n",
            "\n",
            " 38416\n",
            "\n",
            " 39204\n",
            "Square of all odd number is \n",
            "\n",
            " 10201\n",
            "\n",
            " 10609\n",
            "\n",
            " 11025\n",
            "\n",
            " 11449\n",
            "\n",
            " 11881\n",
            "\n",
            " 12321\n",
            "\n",
            " 12769\n",
            "\n",
            " 13225\n",
            "\n",
            " 13689\n",
            "\n",
            " 14161\n",
            "\n",
            " 14641\n",
            "\n",
            " 15129\n",
            "\n",
            " 15625\n",
            "\n",
            " 16129\n",
            "\n",
            " 16641\n",
            "\n",
            " 17161\n",
            "\n",
            " 17689\n",
            "\n",
            " 18225\n",
            "\n",
            " 18769\n",
            "\n",
            " 19321\n",
            "\n",
            " 19881\n",
            "\n",
            " 20449\n",
            "\n",
            " 21025\n",
            "\n",
            " 21609\n",
            "\n",
            " 22201\n",
            "\n",
            " 22801\n",
            "\n",
            " 23409\n",
            "\n",
            " 24025\n",
            "\n",
            " 24649\n",
            "\n",
            " 25281\n",
            "\n",
            " 25921\n",
            "\n",
            " 26569\n",
            "\n",
            " 27225\n",
            "\n",
            " 27889\n",
            "\n",
            " 28561\n",
            "\n",
            " 29241\n",
            "\n",
            " 29929\n",
            "\n",
            " 30625\n",
            "\n",
            " 31329\n",
            "\n",
            " 32041\n",
            "\n",
            " 32761\n",
            "\n",
            " 33489\n",
            "\n",
            " 34225\n",
            "\n",
            " 34969\n",
            "\n",
            " 35721\n",
            "\n",
            " 36481\n",
            "\n",
            " 37249\n",
            "\n",
            " 38025\n",
            "\n",
            " 38809\n",
            "\n",
            " 39601\n"
          ]
        }
      ]
    },
    {
      "cell_type": "markdown",
      "source": [
        "Write a program to count the number of words in a given text"
      ],
      "metadata": {
        "id": "-fn8GKBtAFBk"
      }
    },
    {
      "cell_type": "code",
      "source": [
        "input_text=input(\"Enter a text\")\n",
        "words=input_text.split()\n",
        "print(len(words))"
      ],
      "metadata": {
        "colab": {
          "base_uri": "https://localhost:8080/"
        },
        "id": "Fu9m-wec9twt",
        "outputId": "7fd470c2-914f-4098-aeb4-1d6556ab396f"
      },
      "execution_count": null,
      "outputs": [
        {
          "output_type": "stream",
          "name": "stdout",
          "text": [
            "Enter a textomkar is a good boy\n",
            "5\n"
          ]
        }
      ]
    },
    {
      "cell_type": "markdown",
      "source": [
        "Write a Python function called is_palindrome that takes a string as input and returns True if the string is a palindrome, and False otherwise. A palindrome is a word, phrase, number, or other sequence of characters that reads the same forward and backward, ignoring spaces, punctuation, and capitalization."
      ],
      "metadata": {
        "id": "8wRXK45qBoez"
      }
    },
    {
      "cell_type": "code",
      "source": [
        "def  is_palindrome():\n",
        "  string=input(\"Enter a string------->\")\n",
        "  if string==string[::-1]:\n",
        "    return True\n",
        "  else:\n",
        "    return False\n",
        "\n",
        "is_palindrome()"
      ],
      "metadata": {
        "colab": {
          "base_uri": "https://localhost:8080/"
        },
        "id": "yT14xoISAdT5",
        "outputId": "e58aa501-1c0f-4358-dd29-be9c9f65ee0b"
      },
      "execution_count": null,
      "outputs": [
        {
          "name": "stdout",
          "output_type": "stream",
          "text": [
            "Enter a string------->racecar\n"
          ]
        },
        {
          "output_type": "execute_result",
          "data": {
            "text/plain": [
              "True"
            ]
          },
          "metadata": {},
          "execution_count": 17
        }
      ]
    }
  ]
}